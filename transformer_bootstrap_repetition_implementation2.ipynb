{
 "cells": [
  {
   "cell_type": "code",
   "execution_count": 1,
   "metadata": {},
   "outputs": [],
   "source": [
    "from src.transformer_main import *"
   ]
  },
  {
   "cell_type": "code",
   "execution_count": 2,
   "metadata": {},
   "outputs": [],
   "source": [
    "os.environ[\"CUDA_VISIBLE_DEVICES\"]=\"1\""
   ]
  },
  {
   "cell_type": "code",
   "execution_count": 3,
   "metadata": {},
   "outputs": [],
   "source": [
    "sl = list(range(0,10))"
   ]
  },
  {
   "cell_type": "code",
   "execution_count": null,
   "metadata": {
    "scrolled": false
   },
   "outputs": [
    {
     "name": "stdout",
     "output_type": "stream",
     "text": [
      "load data...\n",
      "1-th repetition...\n",
      "using the full train set...\n",
      "build and initialize models...\n",
      "batch loss: 0.052561\n",
      "   1/1020 [..............................] - ETA: 11:35batch loss: 0.000336\n",
      "   2/1020 [..............................] - ETA: 1:06 batch loss: 0.000015\n",
      "   3/1020 [..............................] - ETA: 1:06batch loss: 0.000004\n",
      "   4/1020 [..............................] - ETA: 1:05batch loss: 0.000001\n",
      "   5/1020 [..............................] - ETA: 1:05batch loss: 0.000000\n",
      "   6/1020 [..............................] - ETA: 1:05batch loss: 0.000000\n",
      "   7/1020 [..............................] - ETA: 1:05batch loss: 0.000000\n",
      "   8/1020 [..............................] - ETA: 1:05batch loss: 0.000000\n",
      "   9/1020 [..............................] - ETA: 1:05batch loss: 0.000000\n",
      "  10/1020 [..............................] - ETA: 1:05batch loss: 0.000000\n",
      "  11/1020 [..............................] - ETA: 1:05batch loss: 0.000000\n",
      "  12/1020 [..............................] - ETA: 1:05batch loss: 0.000000\n",
      "  13/1020 [..............................] - ETA: 1:05batch loss: 0.401342\n",
      "  14/1020 [..............................] - ETA: 1:05batch loss: 0.000000\n",
      "  15/1020 [..............................] - ETA: 1:05batch loss: 0.000000\n",
      "  16/1020 [..............................] - ETA: 1:05batch loss: 0.000000\n",
      "  17/1020 [..............................] - ETA: 1:05batch loss: 0.000000\n",
      "  18/1020 [..............................] - ETA: 1:05batch loss: 0.000000\n",
      "  19/1020 [..............................] - ETA: 1:05batch loss: 0.000001\n",
      "  20/1020 [..............................] - ETA: 1:05batch loss: 0.000001\n",
      "  21/1020 [..............................] - ETA: 1:05batch loss: 1.474976\n",
      "  22/1020 [..............................] - ETA: 1:05batch loss: 0.000005\n",
      "  23/1020 [..............................] - ETA: 1:05batch loss: 0.000019\n",
      "  24/1020 [..............................] - ETA: 1:05batch loss: 1.613194\n",
      "  25/1020 [..............................] - ETA: 1:05batch loss: 0.000613\n",
      "  26/1020 [..............................] - ETA: 1:05batch loss: 0.002619\n",
      "  27/1020 [..............................] - ETA: 1:06batch loss: 0.178052\n",
      "  28/1020 [..............................] - ETA: 1:05batch loss: 0.083140\n",
      "  29/1020 [..............................] - ETA: 1:05batch loss: 0.066822\n",
      "  30/1020 [..............................] - ETA: 1:05batch loss: 0.106531\n",
      "  31/1020 [..............................] - ETA: 1:05batch loss: 0.134096\n",
      "  32/1020 [..............................] - ETA: 1:05batch loss: 0.124431\n",
      "  33/1020 [..............................] - ETA: 1:05batch loss: 0.126856\n",
      "  34/1020 [>.............................] - ETA: 1:05batch loss: 0.154103\n",
      "  35/1020 [>.............................] - ETA: 1:05batch loss: 0.136755\n",
      "  36/1020 [>.............................] - ETA: 1:05batch loss: 0.113750\n",
      "  37/1020 [>.............................] - ETA: 1:05batch loss: 0.097200\n",
      "  38/1020 [>.............................] - ETA: 1:05batch loss: 0.107128\n",
      "  39/1020 [>.............................] - ETA: 1:05batch loss: 0.102284\n",
      "  40/1020 [>.............................] - ETA: 1:05batch loss: 0.080579\n",
      "  41/1020 [>.............................] - ETA: 1:05batch loss: 0.051198\n",
      "  42/1020 [>.............................] - ETA: 1:05batch loss: 0.039605\n",
      "  43/1020 [>.............................] - ETA: 1:05batch loss: 0.031910\n",
      "  44/1020 [>.............................] - ETA: 1:05batch loss: 0.011977\n",
      "  45/1020 [>.............................] - ETA: 1:05batch loss: 0.156041\n",
      "  46/1020 [>.............................] - ETA: 1:05batch loss: 0.005429\n",
      "  47/1020 [>.............................] - ETA: 1:05batch loss: 0.538330\n",
      "  48/1020 [>.............................] - ETA: 1:05"
     ]
    }
   ],
   "source": [
    "bootstrap_train_transformer(\"/home/jl5307/current_research/AMD_prediction/results/transformer/td5/transformer_d256_l2_h8_b32_e30_r10/\",\n",
    "                            \"/home/jl5307/current_research/AMD_prediction/img_data/data_dictionary/longitudinal_sequential_prediction_td5_min5_data_dict_unrolled.pkl\",\n",
    "                            \"/home/jl5307/current_research/AMD_prediction/results/resnet101_binary/b16_lr0005_e20_detection_imagenet/extracted_feature_dict.pkl\",\n",
    "                             10, 30, 32, 2, 256, 8, 2048, 1024, 14, 0.1, 0.0002, 0.0001, [0.03, 0.97], lr_scheduling=[2000,0.9], seed_list=None, testing=False)"
   ]
  },
  {
   "cell_type": "code",
   "execution_count": null,
   "metadata": {},
   "outputs": [],
   "source": []
  }
 ],
 "metadata": {
  "kernelspec": {
   "display_name": "python3-workspace",
   "language": "python",
   "name": "python3-workspace"
  },
  "language_info": {
   "codemirror_mode": {
    "name": "ipython",
    "version": 3
   },
   "file_extension": ".py",
   "mimetype": "text/x-python",
   "name": "python",
   "nbconvert_exporter": "python",
   "pygments_lexer": "ipython3",
   "version": "3.6.9"
  }
 },
 "nbformat": 4,
 "nbformat_minor": 4
}
