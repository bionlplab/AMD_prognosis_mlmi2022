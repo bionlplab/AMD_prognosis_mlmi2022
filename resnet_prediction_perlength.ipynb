{
 "cells": [
  {
   "cell_type": "code",
   "execution_count": 1,
   "metadata": {},
   "outputs": [],
   "source": [
    "from src.resnet_main import *"
   ]
  },
  {
   "cell_type": "code",
   "execution_count": 2,
   "metadata": {},
   "outputs": [
    {
     "name": "stdout",
     "output_type": "stream",
     "text": [
      "load data...\n",
      "build and initialize ResNet...\n",
      "use ResNet pretrained with imagenet...\n",
      "calculate AUC using the best model on the test set\n"
     ]
    }
   ],
   "source": [
    "resnet_detection_point_prediction_timedelta2_result_dict = evaluate_resnet_perlength(\"/home/jl5307/current_research/AMD_prediction/results/resnet101_binary/b16_lr0005_e20_detection_imagenet/resnet_best_model.npy\", \n",
    "                          \"/home/jl5307/current_research/AMD_prediction/img_data/data_dictionary/longitudinal_sequential_prediction_timedelta2_data_dict_resnet_test.pkl\",\n",
    "                          \"/home/jl5307/current_research/AMD_prediction/results/resnet101_binary/b16_lr0005_e20_detection_imagenet/resnet_config.pkl\", \n",
    "                          use_pretrain=\"imagenet\")"
   ]
  },
  {
   "cell_type": "code",
   "execution_count": 3,
   "metadata": {},
   "outputs": [
    {
     "data": {
      "text/plain": [
       "{1: {'AUC': 0.8276596,\n",
       "  'late_amd_score_mean': 0.2826377,\n",
       "  'non_late_amd_score_mean': 0.05845563,\n",
       "  'prediction_count': 1152},\n",
       " 2: {'AUC': 0.8683654,\n",
       "  'late_amd_score_mean': 0.38689762,\n",
       "  'non_late_amd_score_mean': 0.063700736,\n",
       "  'prediction_count': 1089},\n",
       " 3: {'AUC': 0.79403263,\n",
       "  'late_amd_score_mean': 0.37003747,\n",
       "  'non_late_amd_score_mean': 0.06254745,\n",
       "  'prediction_count': 994},\n",
       " 4: {'AUC': 0.80800486,\n",
       "  'late_amd_score_mean': 0.28988805,\n",
       "  'non_late_amd_score_mean': 0.06459194,\n",
       "  'prediction_count': 879},\n",
       " 5: {'AUC': 0.854278,\n",
       "  'late_amd_score_mean': 0.3841475,\n",
       "  'non_late_amd_score_mean': 0.06096015,\n",
       "  'prediction_count': 766},\n",
       " 6: {'AUC': 0.91686994,\n",
       "  'late_amd_score_mean': 0.47534326,\n",
       "  'non_late_amd_score_mean': 0.06858301,\n",
       "  'prediction_count': 707},\n",
       " 7: {'AUC': 0.9117852,\n",
       "  'late_amd_score_mean': 0.46728855,\n",
       "  'non_late_amd_score_mean': 0.07336456,\n",
       "  'prediction_count': 587},\n",
       " 8: {'AUC': 0.9092702,\n",
       "  'late_amd_score_mean': 0.38921174,\n",
       "  'non_late_amd_score_mean': 0.0671522,\n",
       "  'prediction_count': 514},\n",
       " 9: {'AUC': 0.7932692,\n",
       "  'late_amd_score_mean': 0.4336435,\n",
       "  'non_late_amd_score_mean': 0.07918361,\n",
       "  'prediction_count': 422},\n",
       " 10: {'AUC': 0.8360745,\n",
       "  'late_amd_score_mean': 0.37375557,\n",
       "  'non_late_amd_score_mean': 0.05061634,\n",
       "  'prediction_count': 232},\n",
       " 11: {'AUC': 0.70394737,\n",
       "  'late_amd_score_mean': 0.15152572,\n",
       "  'non_late_amd_score_mean': 0.05171826,\n",
       "  'prediction_count': 79},\n",
       " 12: {'AUC': 0.0,\n",
       "  'late_amd_score_mean': 0.0,\n",
       "  'non_late_amd_score_mean': 0.24659379,\n",
       "  'prediction_count': 8},\n",
       " 'overall': {'AUC': 0.8072853,\n",
       "  'late_amd_score_mean': 0.36764884,\n",
       "  'non_late_amd_score_mean': 0.0899845,\n",
       "  'prediction_count': 1152}}"
      ]
     },
     "execution_count": 3,
     "metadata": {},
     "output_type": "execute_result"
    }
   ],
   "source": [
    "resnet_detection_point_prediction_timedelta2_result_dict"
   ]
  },
  {
   "cell_type": "code",
   "execution_count": null,
   "metadata": {},
   "outputs": [],
   "source": []
  },
  {
   "cell_type": "code",
   "execution_count": null,
   "metadata": {},
   "outputs": [],
   "source": [
    "save_data(\"/home/jl5307/current_research/AMD_prediction/results/convlstm/resnet_detection_point_prediction_timedelta5.pkl\", resnet_detection_point_prediction_timedelta5_result_dict)"
   ]
  },
  {
   "cell_type": "code",
   "execution_count": 2,
   "metadata": {},
   "outputs": [
    {
     "data": {
      "text/plain": [
       "{1: {'AUC': 0.8275347,\n",
       "  'late_amd_score_mean': 0.17756514,\n",
       "  'non_late_amd_score_mean': 0.04640915},\n",
       " 2: {'AUC': 0.78386945,\n",
       "  'late_amd_score_mean': 0.26484323,\n",
       "  'non_late_amd_score_mean': 0.04932767},\n",
       " 3: {'AUC': 0.8033319,\n",
       "  'late_amd_score_mean': 0.29297897,\n",
       "  'non_late_amd_score_mean': 0.053607702},\n",
       " 4: {'AUC': 0.84964937,\n",
       "  'late_amd_score_mean': 0.33444917,\n",
       "  'non_late_amd_score_mean': 0.05446325},\n",
       " 5: {'AUC': 0.8720915,\n",
       "  'late_amd_score_mean': 0.3570691,\n",
       "  'non_late_amd_score_mean': 0.054749608},\n",
       " 6: {'AUC': 0.8371847,\n",
       "  'late_amd_score_mean': 0.3851841,\n",
       "  'non_late_amd_score_mean': 0.06473089},\n",
       " 7: {'AUC': 0.76454794,\n",
       "  'late_amd_score_mean': 0.30022708,\n",
       "  'non_late_amd_score_mean': 0.07271113},\n",
       " 8: {'AUC': 0.81515604,\n",
       "  'late_amd_score_mean': 0.26324165,\n",
       "  'non_late_amd_score_mean': 0.06695567},\n",
       " 9: {'AUC': 0.75679314,\n",
       "  'late_amd_score_mean': 0.38318557,\n",
       "  'non_late_amd_score_mean': 0.077708416},\n",
       " 10: {'AUC': 0.814528,\n",
       "  'late_amd_score_mean': 0.27205,\n",
       "  'non_late_amd_score_mean': 0.050456848},\n",
       " 11: {'AUC': 0.70394737,\n",
       "  'late_amd_score_mean': 0.15152572,\n",
       "  'non_late_amd_score_mean': 0.05171826},\n",
       " 12: {'AUC': 0.0,\n",
       "  'late_amd_score_mean': 0.0,\n",
       "  'non_late_amd_score_mean': 0.24659379},\n",
       " 'overall': {'AUC': 0.82125765,\n",
       "  'late_amd_score_mean': 0.38556722,\n",
       "  'non_late_amd_score_mean': 0.08429092}}"
      ]
     },
     "execution_count": 2,
     "metadata": {},
     "output_type": "execute_result"
    }
   ],
   "source": [
    "load_data(\"/home/jl5307/current_research/AMD_prediction/results/convlstm/resnet_detection_point_prediction_timedelta5.pkl\")"
   ]
  }
 ],
 "metadata": {
  "kernelspec": {
   "display_name": "python3-workspace",
   "language": "python",
   "name": "python3-workspace"
  },
  "language_info": {
   "codemirror_mode": {
    "name": "ipython",
    "version": 3
   },
   "file_extension": ".py",
   "mimetype": "text/x-python",
   "name": "python",
   "nbconvert_exporter": "python",
   "pygments_lexer": "ipython3",
   "version": "3.6.9"
  }
 },
 "nbformat": 4,
 "nbformat_minor": 4
}
