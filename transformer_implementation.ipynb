{
 "cells": [
  {
   "cell_type": "code",
   "execution_count": 1,
   "metadata": {},
   "outputs": [],
   "source": [
    "from src.transformer_main import *"
   ]
  },
  {
   "cell_type": "code",
   "execution_count": 2,
   "metadata": {},
   "outputs": [],
   "source": [
    "os.environ[\"CUDA_VISIBLE_DEVICES\"]=\"2\""
   ]
  },
  {
   "cell_type": "code",
   "execution_count": null,
   "metadata": {},
   "outputs": [],
   "source": [
    "train_transformer(\"/home/jl5307/current_research/AMD_prediction/results/transformer/5_fold/td5/fold0/\",\n",
    "              \"/home/jl5307/current_research/AMD_prediction/img_data/5_fold/five_fold_unrolled_longitudinal_prediction_td5_min5_data_dict.pkl\",\n",
    "                 \"/home/jl5307/current_research/AMD_prediction/results/resnet101_amd_detection/fold0/extracted_feature_dict.pkl\",\n",
    "                 30, 32, 2, 256, 8, 2048, 1024, 14, 0.1, 0.0002, 0.0001, [0.03, 0.97], lr_scheduling=[2000, 0.9], patience=10, specify_fold=0, testing=False)"
   ]
  },
  {
   "cell_type": "code",
   "execution_count": null,
   "metadata": {},
   "outputs": [],
   "source": [
    "train_transformer(\"/home/jl5307/current_research/AMD_prediction/results/transformer/5_fold/td5/fold1/\",\n",
    "              \"/home/jl5307/current_research/AMD_prediction/img_data/5_fold/five_fold_unrolled_longitudinal_prediction_td5_min5_data_dict.pkl\",\n",
    "                 \"/home/jl5307/current_research/AMD_prediction/results/resnet101_amd_detection/fold1/extracted_feature_dict.pkl\",\n",
    "                 30, 32, 2, 256, 8, 2048, 1024, 14, 0.1, 0.0002, 0.0001, [0.03, 0.97], lr_scheduling=[2000, 0.9], patience=10, specify_fold=1, testing=False)"
   ]
  },
  {
   "cell_type": "code",
   "execution_count": null,
   "metadata": {},
   "outputs": [],
   "source": [
    "train_transformer(\"/home/jl5307/current_research/AMD_prediction/results/transformer/5_fold/td5/fold2/\",\n",
    "              \"/home/jl5307/current_research/AMD_prediction/img_data/5_fold/five_fold_unrolled_longitudinal_prediction_td5_min5_data_dict.pkl\",\n",
    "                 \"/home/jl5307/current_research/AMD_prediction/results/resnet101_amd_detection/fold2/extracted_feature_dict.pkl\",\n",
    "                 30, 32, 2, 256, 8, 2048, 1024, 14, 0.1, 0.0002, 0.0001, [0.03, 0.97], lr_scheduling=[2000, 0.9], patience=10, specify_fold=2, testing=False)"
   ]
  },
  {
   "cell_type": "code",
   "execution_count": null,
   "metadata": {},
   "outputs": [],
   "source": [
    "train_transformer(\"/home/jl5307/current_research/AMD_prediction/results/transformer/5_fold/td5/fold3/\",\n",
    "              \"/home/jl5307/current_research/AMD_prediction/img_data/5_fold/five_fold_unrolled_longitudinal_prediction_td5_min5_data_dict.pkl\",\n",
    "                 \"/home/jl5307/current_research/AMD_prediction/results/resnet101_amd_detection/fold3/extracted_feature_dict.pkl\",\n",
    "                 30, 32, 2, 256, 8, 2048, 1024, 14, 0.1, 0.0002, 0.0001, [0.03, 0.97], lr_scheduling=[2000, 0.9], patience=10, specify_fold=3, testing=False)"
   ]
  },
  {
   "cell_type": "code",
   "execution_count": null,
   "metadata": {},
   "outputs": [],
   "source": [
    "train_transformer(\"/home/jl5307/current_research/AMD_prediction/results/transformer/5_fold/td5/fold4/\",\n",
    "              \"/home/jl5307/current_research/AMD_prediction/img_data/5_fold/five_fold_unrolled_longitudinal_prediction_td5_min5_data_dict.pkl\",\n",
    "                 \"/home/jl5307/current_research/AMD_prediction/results/resnet101_amd_detection/fold4/extracted_feature_dict.pkl\",\n",
    "                 30, 32, 2, 256, 8, 2048, 1024, 14, 0.1, 0.0002, 0.0001, [0.03, 0.97], lr_scheduling=[2000, 0.9], patience=10, specify_fold=4, testing=False)"
   ]
  }
 ],
 "metadata": {
  "kernelspec": {
   "display_name": "python3-workspace",
   "language": "python",
   "name": "python3-workspace"
  },
  "language_info": {
   "codemirror_mode": {
    "name": "ipython",
    "version": 3
   },
   "file_extension": ".py",
   "mimetype": "text/x-python",
   "name": "python",
   "nbconvert_exporter": "python",
   "pygments_lexer": "ipython3",
   "version": "3.6.9"
  }
 },
 "nbformat": 4,
 "nbformat_minor": 4
}
