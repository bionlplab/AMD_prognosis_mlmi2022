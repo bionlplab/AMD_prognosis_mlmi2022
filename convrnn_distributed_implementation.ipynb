{
 "cells": [
  {
   "cell_type": "code",
   "execution_count": 1,
   "metadata": {},
   "outputs": [],
   "source": [
    "from src.convrnn_distributed_main import *"
   ]
  },
  {
   "cell_type": "code",
   "execution_count": 2,
   "metadata": {},
   "outputs": [
    {
     "name": "stdout",
     "output_type": "stream",
     "text": [
      "load data...\n",
      "build and initialize models...\n",
      "use pretrained weights based on imagenet...\n",
      "test auc:0.910843\n",
      "calculate AUC using the best model on the per length test set\n"
     ]
    }
   ],
   "source": [
    "d = evaluate_saved_model(\"/home/jl5307/current_research/AMD_prediction/results/convlstm/testing/convrnn_best_model.npy\",\n",
    "                     \"/home/jl5307/current_research/AMD_prediction/img_data/numpy_data/longitudinal_sequential_prediction_timedelta2/dataset_tf/\",\n",
    "                     \"/home/jl5307/current_research/AMD_prediction/results/convlstm/testing/convrnn_config.pkl\")"
   ]
  },
  {
   "cell_type": "code",
   "execution_count": 3,
   "metadata": {},
   "outputs": [
    {
     "data": {
      "text/plain": [
       "{'entire_AUC': 0.9108431,\n",
       " 1: 0.82926446,\n",
       " 2: 0.84605676,\n",
       " 3: 0.85092896,\n",
       " 4: 0.8558513,\n",
       " 5: 0.846628,\n",
       " 6: 0.8714254,\n",
       " 7: 0.88327557,\n",
       " 8: 0.77867,\n",
       " 9: 0.7361779,\n",
       " 10: 0.7461623,\n",
       " 11: 0.7368422,\n",
       " 'entire_length': 0.8362404}"
      ]
     },
     "execution_count": 3,
     "metadata": {},
     "output_type": "execute_result"
    }
   ],
   "source": [
    "d"
   ]
  },
  {
   "cell_type": "code",
   "execution_count": 5,
   "metadata": {},
   "outputs": [
    {
     "data": {
      "text/plain": [
       "{'entire_AUC': 0.9108431,\n",
       " 1: 0.82926446,\n",
       " 2: 0.84605676,\n",
       " 3: 0.85092896,\n",
       " 4: 0.8558513,\n",
       " 5: 0.846628,\n",
       " 6: 0.8714254,\n",
       " 7: 0.88327557,\n",
       " 8: 0.77867,\n",
       " 9: 0.7361779,\n",
       " 10: 0.7461623,\n",
       " 11: 0.7368422}"
      ]
     },
     "execution_count": 5,
     "metadata": {},
     "output_type": "execute_result"
    }
   ],
   "source": [
    "d"
   ]
  },
  {
   "cell_type": "code",
   "execution_count": 2,
   "metadata": {},
   "outputs": [
    {
     "name": "stdout",
     "output_type": "stream",
     "text": [
      "set mirrored strategy using 4 GPUs...\n",
      "INFO:tensorflow:Using MirroredStrategy with devices ('/job:localhost/replica:0/task:0/device:GPU:0', '/job:localhost/replica:0/task:0/device:GPU:1', '/job:localhost/replica:0/task:0/device:GPU:2', '/job:localhost/replica:0/task:0/device:GPU:3')\n",
      "load data...\n",
      "build and initialize models...\n",
      "use pretrained weights based on imagenet...\n",
      "INFO:tensorflow:Reduce to /job:localhost/replica:0/task:0/device:CPU:0 then broadcast to ('/job:localhost/replica:0/task:0/device:CPU:0',).\n",
      "INFO:tensorflow:Reduce to /job:localhost/replica:0/task:0/device:CPU:0 then broadcast to ('/job:localhost/replica:0/task:0/device:CPU:0',).\n",
      "INFO:tensorflow:Reduce to /job:localhost/replica:0/task:0/device:CPU:0 then broadcast to ('/job:localhost/replica:0/task:0/device:CPU:0',).\n",
      "INFO:tensorflow:Reduce to /job:localhost/replica:0/task:0/device:CPU:0 then broadcast to ('/job:localhost/replica:0/task:0/device:CPU:0',).\n",
      "INFO:tensorflow:Reduce to /job:localhost/replica:0/task:0/device:CPU:0 then broadcast to ('/job:localhost/replica:0/task:0/device:CPU:0',).\n",
      "INFO:tensorflow:Reduce to /job:localhost/replica:0/task:0/device:CPU:0 then broadcast to ('/job:localhost/replica:0/task:0/device:CPU:0',).\n",
      "INFO:tensorflow:Reduce to /job:localhost/replica:0/task:0/device:CPU:0 then broadcast to ('/job:localhost/replica:0/task:0/device:CPU:0',).\n",
      "INFO:tensorflow:Reduce to /job:localhost/replica:0/task:0/device:CPU:0 then broadcast to ('/job:localhost/replica:0/task:0/device:CPU:0',).\n",
      "INFO:tensorflow:Reduce to /job:localhost/replica:0/task:0/device:CPU:0 then broadcast to ('/job:localhost/replica:0/task:0/device:CPU:0',).\n",
      "INFO:tensorflow:Reduce to /job:localhost/replica:0/task:0/device:CPU:0 then broadcast to ('/job:localhost/replica:0/task:0/device:CPU:0',).\n",
      "INFO:tensorflow:batch_all_reduce: 423 all-reduces with algorithm = nccl, num_packs = 1\n",
      "INFO:tensorflow:batch_all_reduce: 423 all-reduces with algorithm = nccl, num_packs = 1\n",
      "334/334 [==============================] - 658s 504ms/step\n",
      "epoch:1, train loss:0.177626\n",
      "epoch:1, validation AUC:0.911161\n",
      "Best model: at epoch 1, best model auc:0.911161\n",
      "calculate AUC using the best model on the test set\n",
      "load data...\n",
      "test auc:0.910843\n",
      "calculate AUC using the best model on the per length test set\n",
      "saving results...\n"
     ]
    },
    {
     "name": "stderr",
     "output_type": "stream",
     "text": [
      "/home/jl5307/current_research/virtualenvs/python3-workspace/lib/python3.6/site-packages/numpy/core/_asarray.py:136: VisibleDeprecationWarning: Creating an ndarray from ragged nested sequences (which is a list-or-tuple of lists-or-tuples-or ndarrays with different lengths or shapes) is deprecated. If you meant to do this, you must specify 'dtype=object' when creating the ndarray\n",
      "  return array(a, dtype, copy=False, order=order, subok=True)\n"
     ]
    }
   ],
   "source": [
    "distributed_train_resnetlstm_module(\"/home/jl5307/current_research/AMD_prediction/results/convlstm/testing/\",\n",
    "                                   \"/home/jl5307/current_research/AMD_prediction/img_data/numpy_data/longitudinal_sequential_prediction_timedelta2/dataset_tf/\",\n",
    "                                   [3, 4, 23, 3], 1, 4, 256, 0.0005, \"0,1,2,3\", 0.0001, [0.03, 0.97], lr_scheduling=True, use_pretrain=\"imagenet\",\n",
    "                                   pretrained_weights_path=\"/home/jl5307/current_research/AMD_prediction/results/resnet101_binary/b16_lr0005_e20_detection_imagenet/resnet_best_model.npy\",\n",
    "                                   pretrained_config_path=\"/home/jl5307/current_research/AMD_prediction/results/resnet101_binary/b16_lr0005_e20_detection_imagenet/resnet_config.pkl\",\n",
    "                                   testing=False)"
   ]
  }
 ],
 "metadata": {
  "kernelspec": {
   "display_name": "python3-workspace",
   "language": "python",
   "name": "python3-workspace"
  },
  "language_info": {
   "codemirror_mode": {
    "name": "ipython",
    "version": 3
   },
   "file_extension": ".py",
   "mimetype": "text/x-python",
   "name": "python",
   "nbconvert_exporter": "python",
   "pygments_lexer": "ipython3",
   "version": "3.6.9"
  }
 },
 "nbformat": 4,
 "nbformat_minor": 4
}
