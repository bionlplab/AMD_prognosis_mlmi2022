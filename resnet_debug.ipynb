{
 "cells": [
  {
   "cell_type": "code",
   "execution_count": 1,
   "id": "9d0bcf9f",
   "metadata": {},
   "outputs": [],
   "source": [
    "from src.resnet_main import *"
   ]
  },
  {
   "cell_type": "code",
   "execution_count": 2,
   "id": "103954d0",
   "metadata": {},
   "outputs": [],
   "source": [
    "os.environ[\"CUDA_VISIBLE_DEVICES\"]=\"2\""
   ]
  },
  {
   "cell_type": "code",
   "execution_count": 3,
   "id": "7585b7bc",
   "metadata": {},
   "outputs": [],
   "source": [
    "config = {\"output_path\" : \"/home/jl5307/current_research/AMD_prediction/results/resnet101_amd_detection/\",\n",
    "         \"data_root_path\" : \"/home/jl5307/current_research/AMD_prediction/img_data/img_files/\",\n",
    "         \"data_dict_path\" : \"/home/jl5307/current_research/AMD_prediction/img_data/5_fold/five_fold_amd_detection_data_dict.pkl\", \n",
    "          \"architecture\" : [3,4,23,3], \"epoch\" : 20, \"batch_size\" : 32, \"learning_rate\" : 0.0005, \"l2_reg\" : 0.001, \"num_class\" : 1, \n",
    "          \"resizing\" : 256, \"scale\" : 0.875, \"class_weight\" : [0.13, 0.87], \"prediction\" : \"binary\", \"augment\" : True, \n",
    "          \"lr_scheduling\" : [2000, 0.9], \"specify_fold\" : 1, \"use_pretrain\" : \"imagenet\"}"
   ]
  },
  {
   "cell_type": "code",
   "execution_count": 4,
   "id": "e349a030",
   "metadata": {},
   "outputs": [
    {
     "name": "stdout",
     "output_type": "stream",
     "text": [
      "load data...\n"
     ]
    }
   ],
   "source": [
    "print(\"load data...\")\n",
    "data_dict = load_data(\"/home/jl5307/current_research/AMD_prediction/img_data/5_fold/five_fold_amd_detection_data_dict.pkl\")\n",
    "data_dict = data_dict[1]"
   ]
  },
  {
   "cell_type": "code",
   "execution_count": 5,
   "id": "64c0e8a6",
   "metadata": {},
   "outputs": [],
   "source": [
    "training_set_dict = data_dict[\"train_set\"]\n",
    "validation_set_dict = data_dict[\"validation_set\"]\n",
    "test_set_dict = data_dict[\"test_set\"]"
   ]
  },
  {
   "cell_type": "code",
   "execution_count": 6,
   "id": "98b42da6",
   "metadata": {},
   "outputs": [
    {
     "name": "stdout",
     "output_type": "stream",
     "text": [
      "use ResNet pretrained with imagenet...\n"
     ]
    }
   ],
   "source": [
    "        print(\"use ResNet pretrained with imagenet...\")\n",
    "        resnet = ResNetPretrained(config)"
   ]
  },
  {
   "cell_type": "code",
   "execution_count": 7,
   "id": "28b1dbfd",
   "metadata": {},
   "outputs": [],
   "source": [
    "training_set = list(training_set_dict.keys())"
   ]
  },
  {
   "cell_type": "code",
   "execution_count": 8,
   "id": "5678d3d7",
   "metadata": {},
   "outputs": [],
   "source": [
    "i = 1\n",
    "batch_size = 32"
   ]
  },
  {
   "cell_type": "code",
   "execution_count": 9,
   "id": "31b7e7b9",
   "metadata": {},
   "outputs": [],
   "source": [
    "AUGMENTER = set_augmenter()"
   ]
  },
  {
   "cell_type": "code",
   "execution_count": 10,
   "id": "c14ecd21",
   "metadata": {},
   "outputs": [],
   "source": [
    "eye_batch = training_set[i*batch_size:(i+1)*batch_size]\n",
    "x, y = prepare_batch(eye_batch, training_set_dict, config, augmenter=AUGMENTER, one_hot=False)"
   ]
  },
  {
   "cell_type": "code",
   "execution_count": 11,
   "id": "c388e700",
   "metadata": {},
   "outputs": [],
   "source": [
    "y_hat = resnet(x, training=True)"
   ]
  },
  {
   "cell_type": "code",
   "execution_count": 12,
   "id": "c56ae907",
   "metadata": {},
   "outputs": [
    {
     "data": {
      "text/plain": [
       "<tf.Tensor: shape=(32, 1), dtype=float32, numpy=\n",
       "array([[0.3500385 ],\n",
       "       [0.5636182 ],\n",
       "       [0.42013985],\n",
       "       [0.3185327 ],\n",
       "       [0.31532097],\n",
       "       [0.23526669],\n",
       "       [0.34857997],\n",
       "       [0.42293125],\n",
       "       [0.34598666],\n",
       "       [0.2712548 ],\n",
       "       [0.29288244],\n",
       "       [0.2212107 ],\n",
       "       [0.5063108 ],\n",
       "       [0.3341339 ],\n",
       "       [0.36088514],\n",
       "       [0.4881481 ],\n",
       "       [0.60613424],\n",
       "       [0.2472348 ],\n",
       "       [0.583323  ],\n",
       "       [0.22052313],\n",
       "       [0.38801134],\n",
       "       [0.46745464],\n",
       "       [0.4588426 ],\n",
       "       [0.51046157],\n",
       "       [0.17800114],\n",
       "       [0.2724768 ],\n",
       "       [0.2828884 ],\n",
       "       [0.36663193],\n",
       "       [0.46094686],\n",
       "       [0.50215006],\n",
       "       [0.28557032],\n",
       "       [0.47338086]], dtype=float32)>"
      ]
     },
     "execution_count": 12,
     "metadata": {},
     "output_type": "execute_result"
    }
   ],
   "source": [
    "y_hat"
   ]
  },
  {
   "cell_type": "code",
   "execution_count": 14,
   "id": "9cafe565",
   "metadata": {},
   "outputs": [
    {
     "data": {
      "text/plain": [
       "<tf.Tensor: shape=(32, 1), dtype=float32, numpy=\n",
       "array([[0.],\n",
       "       [0.],\n",
       "       [0.],\n",
       "       [0.],\n",
       "       [0.],\n",
       "       [0.],\n",
       "       [0.],\n",
       "       [0.],\n",
       "       [0.],\n",
       "       [0.],\n",
       "       [0.],\n",
       "       [0.],\n",
       "       [0.],\n",
       "       [0.],\n",
       "       [0.],\n",
       "       [0.],\n",
       "       [0.],\n",
       "       [0.],\n",
       "       [0.],\n",
       "       [0.],\n",
       "       [0.],\n",
       "       [0.],\n",
       "       [0.],\n",
       "       [0.],\n",
       "       [0.],\n",
       "       [0.],\n",
       "       [0.],\n",
       "       [0.],\n",
       "       [0.],\n",
       "       [0.],\n",
       "       [0.],\n",
       "       [0.]], dtype=float32)>"
      ]
     },
     "execution_count": 14,
     "metadata": {},
     "output_type": "execute_result"
    }
   ],
   "source": [
    "y"
   ]
  },
  {
   "cell_type": "code",
   "execution_count": 17,
   "id": "a584a314",
   "metadata": {},
   "outputs": [],
   "source": [
    "y_hat_flatten = tf.reshape(y_hat, shape=-1)\n",
    "y_flatten = tf.reshape(y, shape=-1)"
   ]
  },
  {
   "cell_type": "code",
   "execution_count": 24,
   "id": "27014e8f",
   "metadata": {},
   "outputs": [],
   "source": [
    "class WeightedBinaryCrossEntropy(tf.keras.losses.Loss):\n",
    "    def __init__(self, class_weight):\n",
    "        super(WeightedBinaryCrossEntropy, self).__init__()\n",
    "        self.class_weight = class_weight\n",
    "        self.eps = 10e-07 \n",
    "    \n",
    "    def call(self, y_true, y_pred):\n",
    "        \"\"\"\n",
    "        y_true and y_pred must be flattened\n",
    "        \"\"\"\n",
    "        # Clipping y_pred for numerical stability \n",
    "        y_pred = tf.clip_by_value(y_pred, self.eps, 1-self.eps)\n",
    "\n",
    "        loss_for_true = tf.negative(tf.multiply(y_true, tf.math.log(y_pred)) * self.class_weight[1])\n",
    "        loss_for_false = tf.negative(tf.multiply(1. - y_true, tf.math.log(1.0 - y_pred)) * self.class_weight[0])\n",
    "        weighted_loss_sum = tf.add(loss_for_true, loss_for_false)\n",
    "        \n",
    "        return tf.reduce_mean(weighted_loss_sum, axis=0)"
   ]
  },
  {
   "cell_type": "code",
   "execution_count": 25,
   "id": "2c49a707",
   "metadata": {},
   "outputs": [],
   "source": [
    "WBCE = WeightedBinaryCrossEntropy([0.13, 0.87])"
   ]
  },
  {
   "cell_type": "code",
   "execution_count": 26,
   "id": "81b86af6",
   "metadata": {},
   "outputs": [
    {
     "data": {
      "text/plain": [
       "<tf.Tensor: shape=(), dtype=float32, numpy=0.06405591>"
      ]
     },
     "execution_count": 26,
     "metadata": {},
     "output_type": "execute_result"
    }
   ],
   "source": [
    "WBCE(y_true=y_flatten, y_pred=y_hat_flatten)"
   ]
  },
  {
   "cell_type": "code",
   "execution_count": null,
   "id": "98136022",
   "metadata": {},
   "outputs": [],
   "source": []
  }
 ],
 "metadata": {
  "kernelspec": {
   "display_name": "python3-workspace",
   "language": "python",
   "name": "python3-workspace"
  },
  "language_info": {
   "codemirror_mode": {
    "name": "ipython",
    "version": 3
   },
   "file_extension": ".py",
   "mimetype": "text/x-python",
   "name": "python",
   "nbconvert_exporter": "python",
   "pygments_lexer": "ipython3",
   "version": "3.6.9"
  }
 },
 "nbformat": 4,
 "nbformat_minor": 5
}
