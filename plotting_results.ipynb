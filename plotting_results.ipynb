{
 "cells": [
  {
   "cell_type": "code",
   "execution_count": 1,
   "metadata": {},
   "outputs": [],
   "source": [
    "from utils.utils import *\n",
    "import matplotlib.pyplot as plt\n",
    "import os\n",
    "import seaborn as sns\n",
    "import pandas as pd"
   ]
  },
  {
   "cell_type": "code",
   "execution_count": 2,
   "metadata": {},
   "outputs": [],
   "source": [
    "# GPU assignment\n",
    "os.environ[\"CUDA_VISIBLE_DEVICES\"]=\"-1\""
   ]
  },
  {
   "cell_type": "code",
   "execution_count": 3,
   "metadata": {},
   "outputs": [],
   "source": [
    "plt.rcParams['font.size'] = 16\n",
    "plt.rcParams['axes.linewidth'] = 2"
   ]
  },
  {
   "cell_type": "code",
   "execution_count": 4,
   "metadata": {},
   "outputs": [],
   "source": [
    "def summarize_five_fold_result(fold_path, file_name, return_result):\n",
    "    fold_list = os.listdir(fold_path)\n",
    "    \n",
    "    entire_auc_list = []\n",
    "    per_length_1_auc_list = []\n",
    "    per_length_2_auc_list = []\n",
    "    per_length_3_auc_list = []\n",
    "    per_length_4_auc_list = []\n",
    "    per_length_5_auc_list = []\n",
    "    \n",
    "    for fold in fold_list:\n",
    "        file_path = os.path.join(fold_path, fold, file_name)\n",
    "        result_dict = load_data(file_path)\n",
    "        \n",
    "        entire_auc_list.append(result_dict[\"entire_AUC\"])\n",
    "        per_length_1_auc_list.append(result_dict[1][\"AUC\"])\n",
    "        per_length_2_auc_list.append(result_dict[2][\"AUC\"])\n",
    "        per_length_3_auc_list.append(result_dict[3][\"AUC\"])\n",
    "        per_length_4_auc_list.append(result_dict[4][\"AUC\"])\n",
    "        per_length_5_auc_list.append(result_dict[5][\"AUC\"])\n",
    "        \n",
    "    print(\"mean entire AUC: {}\".format(np.mean(entire_auc_list)))\n",
    "    print(\"std entire AUC: {}\".format(np.std(entire_auc_list)))\n",
    "    print(\"-----------------------------------------\")\n",
    "    print(\"mean AUC: {}\".format(np.mean(per_length_1_auc_list)))\n",
    "    print(\"std AUC: {}\".format(np.std(per_length_1_auc_list)))\n",
    "    print(\"-----------------------------------------\")\n",
    "    print(\"mean AUC: {}\".format(np.mean(per_length_2_auc_list)))\n",
    "    print(\"std AUC: {}\".format(np.std(per_length_2_auc_list)))\n",
    "    print(\"-----------------------------------------\")\n",
    "    print(\"mean AUC: {}\".format(np.mean(per_length_3_auc_list)))\n",
    "    print(\"std AUC: {}\".format(np.std(per_length_3_auc_list)))\n",
    "    print(\"-----------------------------------------\")\n",
    "    print(\"mean AUC: {}\".format(np.mean(per_length_4_auc_list)))\n",
    "    print(\"std AUC: {}\".format(np.std(per_length_4_auc_list)))\n",
    "    print(\"-----------------------------------------\") \n",
    "    print(\"mean AUC: {}\".format(np.mean(per_length_5_auc_list)))\n",
    "    print(\"std AUC: {}\".format(np.std(per_length_5_auc_list)))\n",
    "    \n",
    "    if return_result:\n",
    "        per_length_result_list = [per_length_1_auc_list, per_length_2_auc_list, \n",
    "                                  per_length_3_auc_list, per_length_4_auc_list, per_length_5_auc_list]\n",
    "        \n",
    "        return entire_auc_list, per_length_result_list"
   ]
  },
  {
   "cell_type": "code",
   "execution_count": 5,
   "metadata": {},
   "outputs": [
    {
     "name": "stdout",
     "output_type": "stream",
     "text": [
      "mean entire AUC: 0.8684965372085571\n",
      "std entire AUC: 0.012570498511195183\n",
      "-----------------------------------------\n",
      "mean AUC: 0.8614711761474609\n",
      "std AUC: 0.024129049852490425\n",
      "-----------------------------------------\n",
      "mean AUC: 0.8614711761474609\n",
      "std AUC: 0.024129049852490425\n",
      "-----------------------------------------\n",
      "mean AUC: 0.8614711761474609\n",
      "std AUC: 0.024129049852490425\n",
      "-----------------------------------------\n",
      "mean AUC: 0.8614711761474609\n",
      "std AUC: 0.024129049852490425\n",
      "-----------------------------------------\n",
      "mean AUC: 0.8614711761474609\n",
      "std AUC: 0.024129049852490425\n"
     ]
    }
   ],
   "source": [
    "resnet_td2_entire_auc, resnet_td2_perlength_auc = summarize_five_fold_result(\"/home/jl5307/current_research/AMD_prediction/results/resnet_feature_evaluation/5_fold/td2/\", \n",
    "                          \"resnet_feature_evaluation_result_dict.pkl\", return_result=True)"
   ]
  },
  {
   "cell_type": "code",
   "execution_count": 6,
   "metadata": {},
   "outputs": [
    {
     "name": "stdout",
     "output_type": "stream",
     "text": [
      "mean entire AUC: 0.8834463357925415\n",
      "std entire AUC: 0.01693752035498619\n",
      "-----------------------------------------\n",
      "mean AUC: 0.8555181622505188\n",
      "std AUC: 0.028697768226265907\n",
      "-----------------------------------------\n",
      "mean AUC: 0.8665507435798645\n",
      "std AUC: 0.027521958574652672\n",
      "-----------------------------------------\n",
      "mean AUC: 0.8695247769355774\n",
      "std AUC: 0.029217856004834175\n",
      "-----------------------------------------\n",
      "mean AUC: 0.8719399571418762\n",
      "std AUC: 0.029042961075901985\n",
      "-----------------------------------------\n",
      "mean AUC: 0.8728641271591187\n",
      "std AUC: 0.028935829177498817\n"
     ]
    }
   ],
   "source": [
    "cnnlstm_td2_entire_auc, cnnlstm_td2_perlength_auc = summarize_five_fold_result(\"/home/jl5307/current_research/AMD_prediction/results/convlstm/5_fold/td2/\", \n",
    "                          \"convrnn_result_dict.pkl\", return_result=True)"
   ]
  },
  {
   "cell_type": "code",
   "execution_count": 7,
   "metadata": {
    "scrolled": true
   },
   "outputs": [
    {
     "name": "stdout",
     "output_type": "stream",
     "text": [
      "mean entire AUC: 0.8788155317306519\n",
      "std entire AUC: 0.013118050992488861\n",
      "-----------------------------------------\n",
      "mean AUC: 0.8516707420349121\n",
      "std AUC: 0.031008828431367874\n",
      "-----------------------------------------\n",
      "mean AUC: 0.8621859550476074\n",
      "std AUC: 0.03075353056192398\n",
      "-----------------------------------------\n",
      "mean AUC: 0.8618216514587402\n",
      "std AUC: 0.0352272167801857\n",
      "-----------------------------------------\n",
      "mean AUC: 0.864205002784729\n",
      "std AUC: 0.03652578219771385\n",
      "-----------------------------------------\n",
      "mean AUC: 0.8655246496200562\n",
      "std AUC: 0.0370960496366024\n"
     ]
    }
   ],
   "source": [
    "cnntransformer_td2_entire_auc, cnntransformer_td2_perlength_auc = summarize_five_fold_result(\"/home/jl5307/current_research/AMD_prediction/results/transformer/5_fold/td2/\", \n",
    "                          \"transformer_result_dict.pkl\", return_result=True)"
   ]
  },
  {
   "cell_type": "code",
   "execution_count": null,
   "metadata": {},
   "outputs": [],
   "source": []
  },
  {
   "cell_type": "code",
   "execution_count": 8,
   "metadata": {},
   "outputs": [
    {
     "name": "stdout",
     "output_type": "stream",
     "text": [
      "mean entire AUC: 0.8616607785224915\n",
      "std entire AUC: 0.02297462522983551\n",
      "-----------------------------------------\n",
      "mean AUC: 0.8618680834770203\n",
      "std AUC: 0.022679423913359642\n",
      "-----------------------------------------\n",
      "mean AUC: 0.8618680834770203\n",
      "std AUC: 0.022679423913359642\n",
      "-----------------------------------------\n",
      "mean AUC: 0.8618680834770203\n",
      "std AUC: 0.022679423913359642\n",
      "-----------------------------------------\n",
      "mean AUC: 0.8618680834770203\n",
      "std AUC: 0.022679423913359642\n",
      "-----------------------------------------\n",
      "mean AUC: 0.8618680834770203\n",
      "std AUC: 0.022679423913359642\n"
     ]
    }
   ],
   "source": [
    "resnet_td5_entire_auc, resnet_td5_perlength_auc = summarize_five_fold_result(\"/home/jl5307/current_research/AMD_prediction/results/resnet_feature_evaluation/5_fold/td5/\", \n",
    "                          \"resnet_feature_evaluation_result_dict.pkl\", return_result=True)"
   ]
  },
  {
   "cell_type": "code",
   "execution_count": 9,
   "metadata": {},
   "outputs": [
    {
     "name": "stdout",
     "output_type": "stream",
     "text": [
      "mean entire AUC: 0.8785545229911804\n",
      "std entire AUC: 0.019553732126951218\n",
      "-----------------------------------------\n",
      "mean AUC: 0.8556297421455383\n",
      "std AUC: 0.03066219761967659\n",
      "-----------------------------------------\n",
      "mean AUC: 0.8667978048324585\n",
      "std AUC: 0.02830367349088192\n",
      "-----------------------------------------\n",
      "mean AUC: 0.8692710995674133\n",
      "std AUC: 0.031112756580114365\n",
      "-----------------------------------------\n",
      "mean AUC: 0.8716737031936646\n",
      "std AUC: 0.030704336240887642\n",
      "-----------------------------------------\n",
      "mean AUC: 0.8729132413864136\n",
      "std AUC: 0.029787426814436913\n"
     ]
    }
   ],
   "source": [
    "cnnlstm_td5_entire_auc, cnnlstm_td5_perlength_auc = summarize_five_fold_result(\"/home/jl5307/current_research/AMD_prediction/results/convlstm/5_fold/td5/\", \n",
    "                          \"convrnn_result_dict.pkl\", return_result=True)"
   ]
  },
  {
   "cell_type": "code",
   "execution_count": 10,
   "metadata": {},
   "outputs": [
    {
     "name": "stdout",
     "output_type": "stream",
     "text": [
      "mean entire AUC: 0.8725025057792664\n",
      "std entire AUC: 0.020482223480939865\n",
      "-----------------------------------------\n",
      "mean AUC: 0.8458773493766785\n",
      "std AUC: 0.02900003269314766\n",
      "-----------------------------------------\n",
      "mean AUC: 0.8614540100097656\n",
      "std AUC: 0.029027031734585762\n",
      "-----------------------------------------\n",
      "mean AUC: 0.8634124994277954\n",
      "std AUC: 0.03170520439743996\n",
      "-----------------------------------------\n",
      "mean AUC: 0.8657819032669067\n",
      "std AUC: 0.02838093787431717\n",
      "-----------------------------------------\n",
      "mean AUC: 0.8677722811698914\n",
      "std AUC: 0.028571587055921555\n"
     ]
    }
   ],
   "source": [
    "cnntransformer_td5_entire_auc, cnntransformer_td5_perlength_auc = summarize_five_fold_result(\"/home/jl5307/current_research/AMD_prediction/results/transformer/5_fold/td5/\", \n",
    "                          \"transformer_result_dict.pkl\", return_result=True)"
   ]
  },
  {
   "cell_type": "code",
   "execution_count": 13,
   "metadata": {},
   "outputs": [],
   "source": [
    "td2_perlength_auc_dict = {\"AUC\" : resnet_td2_perlength_auc[1] + resnet_td2_perlength_auc[2] +\n",
    "                          resnet_td2_perlength_auc[3] + resnet_td2_perlength_auc[4] +\n",
    "                          cnnlstm_td2_perlength_auc[1] + cnnlstm_td2_perlength_auc[2] +\n",
    "                          cnnlstm_td2_perlength_auc[3] + cnnlstm_td2_perlength_auc[4] +\n",
    "                          cnntransformer_td2_perlength_auc[1] + cnntransformer_td2_perlength_auc[2] +\n",
    "                          cnntransformer_td2_perlength_auc[3] + cnntransformer_td2_perlength_auc[4],\n",
    "                          \"length\" : [\"2\"] * 5 + [\"3\"] * 5 + [\"4\"] * 5 + [\"5\"] * 5 +\n",
    "                          [\"2\"] * 5 + [\"3\"] * 5 + [\"4\"] * 5 + [\"5\"] * 5 +\n",
    "                          [\"2\"] * 5 + [\"3\"] * 5 + [\"4\"] * 5 + [\"5\"] * 5,\n",
    "                         \"model\" : [\"CNN-FC\"] * 20 + [\"CNN-LSTM\"] * 20 + [\"CNN-Transformer\"] * 20}"
   ]
  },
  {
   "cell_type": "code",
   "execution_count": 17,
   "metadata": {},
   "outputs": [],
   "source": [
    "td5_perlength_auc_dict = {\"AUC\" : resnet_td5_perlength_auc[1] + resnet_td5_perlength_auc[2] +\n",
    "                          resnet_td5_perlength_auc[3] + resnet_td5_perlength_auc[4] +\n",
    "                          cnnlstm_td5_perlength_auc[1] + cnnlstm_td5_perlength_auc[2] +\n",
    "                          cnnlstm_td5_perlength_auc[3] + cnnlstm_td5_perlength_auc[4] +\n",
    "                          cnntransformer_td5_perlength_auc[1] + cnntransformer_td5_perlength_auc[2] +\n",
    "                          cnntransformer_td5_perlength_auc[3] + cnntransformer_td5_perlength_auc[4],\n",
    "                          \"length\" : [\"2\"] * 5 + [\"3\"] * 5 + [\"4\"] * 5 + [\"5\"] * 5 +\n",
    "                          [\"2\"] * 5 + [\"3\"] * 5 + [\"4\"] * 5 + [\"5\"] * 5 + \n",
    "                          [\"2\"] * 5 + [\"3\"] * 5 + [\"4\"] * 5 + [\"5\"] * 5,\n",
    "                         \"model\" : [\"CNN-FC\"] * 20 + [\"CNN-LSTM\"] * 20 + [\"CNN-Transformer\"] * 20}"
   ]
  },
  {
   "cell_type": "code",
   "execution_count": 18,
   "metadata": {},
   "outputs": [],
   "source": [
    "td2_perlength_auc_df = pd.DataFrame(td2_perlength_auc_dict)"
   ]
  },
  {
   "cell_type": "code",
   "execution_count": 19,
   "metadata": {},
   "outputs": [],
   "source": [
    "td5_perlength_auc_df = pd.DataFrame(td5_perlength_auc_dict)"
   ]
  },
  {
   "cell_type": "code",
   "execution_count": 25,
   "metadata": {},
   "outputs": [
    {
     "data": {
      "image/png": "[encoded data removed]",
      "text/plain": [
       "<Figure size 432x288 with 1 Axes>"
      ]
     },
     "metadata": {
      "needs_background": "light"
     },
     "output_type": "display_data"
    }
   ],
   "source": [
    "ax = sns.barplot(x=\"length\", y=\"AUC\", data=td5_perlength_auc_df, estimator=np.mean, ci=\"sd\", hue=\"model\")\n",
    "ax.set(ylim=(0.80, 0.95))\n",
    "ax.set_yticks([0.800, 0.850, 0.900, 0.950])\n",
    "l = ax.legend()\n",
    "\n",
    "for bar in ax.patches:\n",
    "   \n",
    "  # Using Matplotlib's annotate function and\n",
    "  # passing the coordinates where the annotation shall be done\n",
    "  # x-coordinate: bar.get_x() + bar.get_width() / 2\n",
    "  # y-coordinate: bar.get_height()\n",
    "  # free space to be left to make graph pleasing: (0, 8)\n",
    "  # ha and va stand for the horizontal and vertical alignment\n",
    "    ax.annotate(format(bar.get_height(), '.3f'),\n",
    "                   (bar.get_x() + bar.get_width() / 2,\n",
    "                    bar.get_height()), ha='center', va='center',\n",
    "                   size=12, xytext=(0, 8),\n",
    "                   textcoords='offset points')"
   ]
  },
  {
   "cell_type": "code",
   "execution_count": 30,
   "metadata": {},
   "outputs": [
    {
     "name": "stderr",
     "output_type": "stream",
     "text": [
      "The PostScript backend does not support transparency; partially transparent artists will be rendered opaque.\n",
      "The PostScript backend does not support transparency; partially transparent artists will be rendered opaque.\n",
      "The PostScript backend does not support transparency; partially transparent artists will be rendered opaque.\n",
      "The PostScript backend does not support transparency; partially transparent artists will be rendered opaque.\n"
     ]
    },
    {
     "data": {
      "image/png": "[encoded data removed]",
      "text/plain": [
       "<Figure size 1080x432 with 2 Axes>"
      ]
     },
     "metadata": {
      "needs_background": "light"
     },
     "output_type": "display_data"
    }
   ],
   "source": [
    "fig, axes = plt.subplots(1, 2, figsize=(15,6))\n",
    "\n",
    "\n",
    "sns.barplot(ax=axes[0], x=\"length\", y=\"AUC\", data=td2_perlength_auc_df, estimator=np.mean, ci=\"sd\", hue=\"model\")\n",
    "axes[0].set(ylim=(0.80, 0.95))\n",
    "axes[0].set_yticks([0.800, 0.850, 0.900, 0.950])\n",
    "l = axes[0].legend()\n",
    "\n",
    "for bar in axes[0].patches:\n",
    "   \n",
    "  # Using Matplotlib's annotate function and\n",
    "  # passing the coordinates where the annotation shall be done\n",
    "  # x-coordinate: bar.get_x() + bar.get_width() / 2\n",
    "  # y-coordinate: bar.get_height()\n",
    "  # free space to be left to make graph pleasing: (0, 8)\n",
    "  # ha and va stand for the horizontal and vertical alignment\n",
    "    axes[0].annotate(format(bar.get_height(), '.3f'),\n",
    "                   (bar.get_x() + bar.get_width() / 2,\n",
    "                    bar.get_height()), ha='center', va='center',\n",
    "                   size=12, xytext=(0, 8),\n",
    "                   textcoords='offset points')\n",
    "    \n",
    "sns.barplot(ax=axes[1], x=\"length\", y=\"AUC\", data=td5_perlength_auc_df, estimator=np.mean, ci=\"sd\", hue=\"model\")\n",
    "axes[1].set(ylim=(0.80, 0.95))\n",
    "axes[1].set_yticks([0.800, 0.850, 0.900, 0.950])\n",
    "l = axes[1].legend()\n",
    "\n",
    "for bar in axes[1].patches:\n",
    "   \n",
    "  # Using Matplotlib's annotate function and\n",
    "  # passing the coordinates where the annotation shall be done\n",
    "  # x-coordinate: bar.get_x() + bar.get_width() / 2\n",
    "  # y-coordinate: bar.get_height()\n",
    "  # free space to be left to make graph pleasing: (0, 8)\n",
    "  # ha and va stand for the horizontal and vertical alignment\n",
    "    axes[1].annotate(format(bar.get_height(), '.3f'),\n",
    "                   (bar.get_x() + bar.get_width() / 2,\n",
    "                    bar.get_height()), ha='center', va='center',\n",
    "                   size=12, xytext=(0, 8),\n",
    "                   textcoords='offset points')\n",
    "    \n",
    "axes[0].text(-1.2, 0.97, \"A\", fontsize=20, fontweight=\"bold\")\n",
    "axes[0].text(3.7, 0.97, \"B\", fontsize=20, fontweight=\"bold\")\n",
    "\n",
    "fig.savefig(\"/home/jl5307/current_research/AMD_prediction/figures/per_length_auc.eps\", dpi=600, bbox_inches='tight')"
   ]
  },
  {
   "cell_type": "code",
   "execution_count": null,
   "metadata": {},
   "outputs": [],
   "source": []
  }
 ],
 "metadata": {
  "kernelspec": {
   "display_name": "python3-workspace",
   "language": "python",
   "name": "python3-workspace"
  },
  "language_info": {
   "codemirror_mode": {
    "name": "ipython",
    "version": 3
   },
   "file_extension": ".py",
   "mimetype": "text/x-python",
   "name": "python",
   "nbconvert_exporter": "python",
   "pygments_lexer": "ipython3",
   "version": "3.6.9"
  }
 },
 "nbformat": 4,
 "nbformat_minor": 4
}
