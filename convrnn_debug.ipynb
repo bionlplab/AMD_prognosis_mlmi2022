{
 "cells": [
  {
   "cell_type": "code",
   "execution_count": 1,
   "metadata": {},
   "outputs": [],
   "source": [
    "from src.convrnn_main import *\n",
    "import os"
   ]
  },
  {
   "cell_type": "code",
   "execution_count": 2,
   "metadata": {},
   "outputs": [],
   "source": [
    "os.environ[\"CUDA_VISIBLE_DEVICES\"]=\"0\""
   ]
  },
  {
   "cell_type": "code",
   "execution_count": 3,
   "metadata": {},
   "outputs": [],
   "source": [
    "data_dict = load_data(\"/home/jl5307/current_research/AMD_prediction/img_data/data_dictionary/longitudinal_sequential_prediction_timedelta2_data_dict_min5.pkl\")\n",
    "feature_dict = load_data(\"/home/jl5307/current_research/AMD_prediction/results/resnet101_binary/b16_lr0005_e20_detection_imagenet/extracted_feature_dict.pkl\")\n",
    "training_set_dict = data_dict[\"train_set\"]\n",
    "validation_set_dict = data_dict[\"validation_set\"]\n",
    "test_set_dict = data_dict[\"test_set\"]\n",
    "per_length_test_set_dict = data_dict[\"per_length_test_set\"]"
   ]
  },
  {
   "cell_type": "code",
   "execution_count": 4,
   "metadata": {},
   "outputs": [],
   "source": [
    "config = load_data(\"/home/jl5307/current_research/AMD_prediction/results/convlstm/testing2/convrnn_config.pkl\")"
   ]
  },
  {
   "cell_type": "code",
   "execution_count": 5,
   "metadata": {},
   "outputs": [],
   "source": [
    "lstm = LSTMModule(config)"
   ]
  },
  {
   "cell_type": "code",
   "execution_count": 6,
   "metadata": {},
   "outputs": [],
   "source": [
    "train_eye_list = training_set_dict[\"eye_list\"]\n",
    "train_label_list = training_set_dict[\"label_list\"]"
   ]
  },
  {
   "cell_type": "code",
   "execution_count": 7,
   "metadata": {},
   "outputs": [],
   "source": [
    "i = 2\n",
    "batch_size = 4"
   ]
  },
  {
   "cell_type": "code",
   "execution_count": 8,
   "metadata": {},
   "outputs": [],
   "source": [
    "eye_list_batch = train_eye_list[i*batch_size:(i+1)*batch_size]\n",
    "label_list_batch = train_label_list[i*batch_size:(i+1)*batch_size]\n",
    "x_batch, y_batch = prepare_batch_lstm(eye_list_batch, label_list_batch, feature_dict, config)"
   ]
  },
  {
   "cell_type": "code",
   "execution_count": 9,
   "metadata": {},
   "outputs": [],
   "source": [
    "y_hat = lstm(x_batch, training=True)"
   ]
  },
  {
   "cell_type": "code",
   "execution_count": 10,
   "metadata": {},
   "outputs": [
    {
     "data": {
      "text/plain": [
       "(<tf.Tensor: shape=(38,), dtype=float64, numpy=\n",
       " array([0., 0., 0., 0., 0., 0., 0., 0., 0., 0., 0., 0., 0., 0., 0., 0., 0.,\n",
       "        0., 0., 0., 0., 0., 0., 0., 0., 0., 0., 0., 0., 0., 0., 0., 0., 0.,\n",
       "        0., 0., 0., 0.])>,\n",
       " <tf.Tensor: shape=(38,), dtype=float32, numpy=\n",
       " array([0.49509415, 0.49203834, 0.4897685 , 0.48691553, 0.48448512,\n",
       "        0.48251534, 0.4829162 , 0.4819478 , 0.47904453, 0.47713307,\n",
       "        0.49402106, 0.4890907 , 0.48547325, 0.48586258, 0.48537782,\n",
       "        0.48579758, 0.48636538, 0.48508242, 0.48335373, 0.48246092,\n",
       "        0.49208197, 0.48158666, 0.4820729 , 0.47002628, 0.47058412,\n",
       "        0.46896875, 0.47343355, 0.4737454 , 0.47757083, 0.49602196,\n",
       "        0.47474846, 0.46096978, 0.46151128, 0.46412086, 0.46381018,\n",
       "        0.44482738, 0.44918886, 0.45043942], dtype=float32)>)"
      ]
     },
     "execution_count": 10,
     "metadata": {},
     "output_type": "execute_result"
    }
   ],
   "source": [
    "flatten_with_mask(y_batch, y_hat)"
   ]
  },
  {
   "cell_type": "code",
   "execution_count": 11,
   "metadata": {},
   "outputs": [
    {
     "data": {
      "text/plain": [
       "(<tf.Tensor: shape=(4,), dtype=float32, numpy=array([0., 0., 0., 0.], dtype=float32)>,\n",
       " <tf.Tensor: shape=(4,), dtype=float32, numpy=array([0.47713307, 0.48246092, 0.47757083, 0.45043942], dtype=float32)>)"
      ]
     },
     "execution_count": 11,
     "metadata": {},
     "output_type": "execute_result"
    }
   ],
   "source": [
    "flatten_with_last(y_batch, y_hat)"
   ]
  },
  {
   "cell_type": "code",
   "execution_count": null,
   "metadata": {},
   "outputs": [],
   "source": []
  }
 ],
 "metadata": {
  "kernelspec": {
   "display_name": "python3-workspace",
   "language": "python",
   "name": "python3-workspace"
  },
  "language_info": {
   "codemirror_mode": {
    "name": "ipython",
    "version": 3
   },
   "file_extension": ".py",
   "mimetype": "text/x-python",
   "name": "python",
   "nbconvert_exporter": "python",
   "pygments_lexer": "ipython3",
   "version": "3.6.9"
  }
 },
 "nbformat": 4,
 "nbformat_minor": 4
}
