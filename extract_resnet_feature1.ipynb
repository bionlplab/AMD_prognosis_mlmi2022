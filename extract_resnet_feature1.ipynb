{
 "cells": [
  {
   "cell_type": "code",
   "execution_count": 1,
   "metadata": {},
   "outputs": [],
   "source": [
    "from src.resnet_main import *"
   ]
  },
  {
   "cell_type": "code",
   "execution_count": 2,
   "metadata": {},
   "outputs": [],
   "source": [
    "os.environ[\"CUDA_VISIBLE_DEVICES\"]=\"0\""
   ]
  },
  {
   "cell_type": "code",
   "execution_count": 3,
   "metadata": {},
   "outputs": [
    {
     "name": "stdout",
     "output_type": "stream",
     "text": [
      "load data...\n",
      "build and initialize ResNet...\n",
      "use ResNet pretrained with imagenet...\n",
      "load weights on ResNet...\n",
      "extract features using trained ResNet...\n",
      "2062/2062 [==============================] - 3361s 2s/step\n",
      "saving extracted feature dict\n"
     ]
    }
   ],
   "source": [
    "extract_resnet_feature(\"/home/jl5307/current_research/AMD_prediction/results/resnet101_amd_detection/fold3/\", \n",
    "                       \"/home/jl5307/current_research/AMD_prediction/results/resnet101_amd_detection/fold3/resnet_best_model.npy\", \n",
    "                       \"/home/jl5307/current_research/AMD_prediction/img_data/img_data_dict/entire_data_list.pkl\", \n",
    "                       \"/home/jl5307/current_research/AMD_prediction/results/resnet101_amd_detection/fold3/resnet_config.pkl\")"
   ]
  },
  {
   "cell_type": "code",
   "execution_count": null,
   "metadata": {},
   "outputs": [],
   "source": []
  }
 ],
 "metadata": {
  "kernelspec": {
   "display_name": "python3-workspace",
   "language": "python",
   "name": "python3-workspace"
  },
  "language_info": {
   "codemirror_mode": {
    "name": "ipython",
    "version": 3
   },
   "file_extension": ".py",
   "mimetype": "text/x-python",
   "name": "python",
   "nbconvert_exporter": "python",
   "pygments_lexer": "ipython3",
   "version": "3.6.9"
  }
 },
 "nbformat": 4,
 "nbformat_minor": 4
}
