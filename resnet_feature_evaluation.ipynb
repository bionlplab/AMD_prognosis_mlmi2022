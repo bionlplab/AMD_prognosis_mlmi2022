{
 "cells": [
  {
   "cell_type": "code",
   "execution_count": 1,
   "id": "335140a4",
   "metadata": {},
   "outputs": [],
   "source": [
    "from src.resnet_feature_evaluation import *"
   ]
  },
  {
   "cell_type": "code",
   "execution_count": 2,
   "id": "366fa0c3",
   "metadata": {},
   "outputs": [],
   "source": [
    "os.environ[\"CUDA_VISIBLE_DEVICES\"]=\"3\""
   ]
  },
  {
   "cell_type": "code",
   "execution_count": null,
   "id": "a2bd7298",
   "metadata": {},
   "outputs": [],
   "source": [
    "resnet_feature_evaluation(\"/home/jl5307/current_research/AMD_prediction/results/resnet_feature_evaluation/5_fold/td5/fold0/\",\n",
    "                                   \"/home/jl5307/current_research/AMD_prediction/img_data/5_fold/five_fold_unrolled_longitudinal_prediction_td5_min5_data_dict.pkl\",\n",
    "                                   \"/home/jl5307/current_research/AMD_prediction/results/resnet101_amd_detection/fold0/extracted_feature_dict.pkl\",\n",
    "                                   30, 32, 256, 2048, 0.0002, 0.0001, [0.03, 0.97], [2000, 0.9], specify_fold=0)"
   ]
  },
  {
   "cell_type": "code",
   "execution_count": null,
   "id": "966a18d1",
   "metadata": {},
   "outputs": [],
   "source": [
    "resnet_feature_evaluation(\"/home/jl5307/current_research/AMD_prediction/results/resnet_feature_evaluation/5_fold/td5/fold1/\",\n",
    "                                   \"/home/jl5307/current_research/AMD_prediction/img_data/5_fold/five_fold_unrolled_longitudinal_prediction_td5_min5_data_dict.pkl\",\n",
    "                                   \"/home/jl5307/current_research/AMD_prediction/results/resnet101_amd_detection/fold1/extracted_feature_dict.pkl\",\n",
    "                                   30, 32, 256, 2048, 0.0002, 0.0001, [0.03, 0.97], [2000, 0.9], specify_fold=1)"
   ]
  },
  {
   "cell_type": "code",
   "execution_count": null,
   "id": "1b761f0a",
   "metadata": {},
   "outputs": [],
   "source": [
    "resnet_feature_evaluation(\"/home/jl5307/current_research/AMD_prediction/results/resnet_feature_evaluation/5_fold/td5/fold2/\",\n",
    "                                   \"/home/jl5307/current_research/AMD_prediction/img_data/5_fold/five_fold_unrolled_longitudinal_prediction_td5_min5_data_dict.pkl\",\n",
    "                                   \"/home/jl5307/current_research/AMD_prediction/results/resnet101_amd_detection/fold2/extracted_feature_dict.pkl\",\n",
    "                                   30, 32, 256, 2048, 0.0002, 0.0001, [0.03, 0.97], [2000, 0.9], specify_fold=2)"
   ]
  },
  {
   "cell_type": "code",
   "execution_count": null,
   "id": "c0571014",
   "metadata": {},
   "outputs": [],
   "source": [
    "resnet_feature_evaluation(\"/home/jl5307/current_research/AMD_prediction/results/resnet_feature_evaluation/5_fold/td5/fold3/\",\n",
    "                                   \"/home/jl5307/current_research/AMD_prediction/img_data/5_fold/five_fold_unrolled_longitudinal_prediction_td5_min5_data_dict.pkl\",\n",
    "                                   \"/home/jl5307/current_research/AMD_prediction/results/resnet101_amd_detection/fold3/extracted_feature_dict.pkl\",\n",
    "                                   30, 32, 256, 2048, 0.0002, 0.0001, [0.03, 0.97], [2000, 0.9], specify_fold=3)"
   ]
  },
  {
   "cell_type": "code",
   "execution_count": null,
   "id": "9446588e",
   "metadata": {},
   "outputs": [],
   "source": [
    "resnet_feature_evaluation(\"/home/jl5307/current_research/AMD_prediction/results/resnet_feature_evaluation/5_fold/td5/fold4/\",\n",
    "                                   \"/home/jl5307/current_research/AMD_prediction/img_data/5_fold/five_fold_unrolled_longitudinal_prediction_td5_min5_data_dict.pkl\",\n",
    "                                   \"/home/jl5307/current_research/AMD_prediction/results/resnet101_amd_detection/fold4/extracted_feature_dict.pkl\",\n",
    "                                   30, 32, 256, 2048, 0.0002, 0.0001, [0.03, 0.97], [2000, 0.9], specify_fold=4)"
   ]
  },
  {
   "cell_type": "code",
   "execution_count": null,
   "id": "1eeaff79",
   "metadata": {},
   "outputs": [],
   "source": []
  }
 ],
 "metadata": {
  "kernelspec": {
   "display_name": "python3-workspace",
   "language": "python",
   "name": "python3-workspace"
  },
  "language_info": {
   "codemirror_mode": {
    "name": "ipython",
    "version": 3
   },
   "file_extension": ".py",
   "mimetype": "text/x-python",
   "name": "python",
   "nbconvert_exporter": "python",
   "pygments_lexer": "ipython3",
   "version": "3.6.9"
  }
 },
 "nbformat": 4,
 "nbformat_minor": 5
}
